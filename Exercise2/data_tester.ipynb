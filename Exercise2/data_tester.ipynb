{
 "metadata": {
  "language_info": {
   "codemirror_mode": {
    "name": "ipython",
    "version": 3
   },
   "file_extension": ".py",
   "mimetype": "text/x-python",
   "name": "python",
   "nbconvert_exporter": "python",
   "pygments_lexer": "ipython3",
   "version": "3.8.5"
  },
  "orig_nbformat": 2,
  "kernelspec": {
   "name": "python385jvsc74a57bd0aee8b7b246df8f9039afb4144a1f6fd8d2ca17a180786b69acc140d282b71a49",
   "display_name": "Python 3.8.5 64-bit"
  },
  "metadata": {
   "interpreter": {
    "hash": "aee8b7b246df8f9039afb4144a1f6fd8d2ca17a180786b69acc140d282b71a49"
   }
  }
 },
 "nbformat": 4,
 "nbformat_minor": 2,
 "cells": [
  {
   "cell_type": "code",
   "execution_count": 90,
   "metadata": {},
   "outputs": [],
   "source": [
    "import pandas as pd\n",
    "import numpy as np"
   ]
  },
  {
   "cell_type": "code",
   "execution_count": 91,
   "metadata": {},
   "outputs": [],
   "source": [
    "columns = [i for i in range(3)]"
   ]
  },
  {
   "cell_type": "code",
   "execution_count": 92,
   "metadata": {},
   "outputs": [],
   "source": [
    "input_1 = \"input_1_db_1.txt\"\n",
    "input_2 = \"input_1_db_2.txt\"\n",
    "\n",
    "data_1 = pd.read_csv(input_1, header=None)\n",
    "data_2 = pd.read_csv(input_2, header=None)"
   ]
  },
  {
   "cell_type": "code",
   "execution_count": 93,
   "metadata": {},
   "outputs": [
    {
     "output_type": "execute_result",
     "data": {
      "text/plain": [
       "       0        1        2\n",
       "0   57.0  -7.4703  -0.3561\n",
       "1   81.0  -4.6478   7.9474\n",
       "2   69.0  -8.3768   0.4391\n",
       "3   18.0  -4.9377   9.9903\n",
       "4   62.0  -5.8751  -6.6054\n",
       "..   ...      ...      ...\n",
       "95  14.0  -4.8509   8.4615\n",
       "96  20.0  -4.9018   9.7526\n",
       "97  88.0  -5.8336  11.5752\n",
       "98  11.0 -10.3773  -0.8476\n",
       "99  70.0  -9.1811   1.6406\n",
       "\n",
       "[100 rows x 3 columns]"
      ],
      "text/html": "<div>\n<style scoped>\n    .dataframe tbody tr th:only-of-type {\n        vertical-align: middle;\n    }\n\n    .dataframe tbody tr th {\n        vertical-align: top;\n    }\n\n    .dataframe thead th {\n        text-align: right;\n    }\n</style>\n<table border=\"1\" class=\"dataframe\">\n  <thead>\n    <tr style=\"text-align: right;\">\n      <th></th>\n      <th>0</th>\n      <th>1</th>\n      <th>2</th>\n    </tr>\n  </thead>\n  <tbody>\n    <tr>\n      <th>0</th>\n      <td>57.0</td>\n      <td>-7.4703</td>\n      <td>-0.3561</td>\n    </tr>\n    <tr>\n      <th>1</th>\n      <td>81.0</td>\n      <td>-4.6478</td>\n      <td>7.9474</td>\n    </tr>\n    <tr>\n      <th>2</th>\n      <td>69.0</td>\n      <td>-8.3768</td>\n      <td>0.4391</td>\n    </tr>\n    <tr>\n      <th>3</th>\n      <td>18.0</td>\n      <td>-4.9377</td>\n      <td>9.9903</td>\n    </tr>\n    <tr>\n      <th>4</th>\n      <td>62.0</td>\n      <td>-5.8751</td>\n      <td>-6.6054</td>\n    </tr>\n    <tr>\n      <th>...</th>\n      <td>...</td>\n      <td>...</td>\n      <td>...</td>\n    </tr>\n    <tr>\n      <th>95</th>\n      <td>14.0</td>\n      <td>-4.8509</td>\n      <td>8.4615</td>\n    </tr>\n    <tr>\n      <th>96</th>\n      <td>20.0</td>\n      <td>-4.9018</td>\n      <td>9.7526</td>\n    </tr>\n    <tr>\n      <th>97</th>\n      <td>88.0</td>\n      <td>-5.8336</td>\n      <td>11.5752</td>\n    </tr>\n    <tr>\n      <th>98</th>\n      <td>11.0</td>\n      <td>-10.3773</td>\n      <td>-0.8476</td>\n    </tr>\n    <tr>\n      <th>99</th>\n      <td>70.0</td>\n      <td>-9.1811</td>\n      <td>1.6406</td>\n    </tr>\n  </tbody>\n</table>\n<p>100 rows × 3 columns</p>\n</div>"
     },
     "metadata": {},
     "execution_count": 93
    }
   ],
   "source": [
    "data_1"
   ]
  },
  {
   "cell_type": "code",
   "execution_count": 94,
   "metadata": {},
   "outputs": [
    {
     "output_type": "execute_result",
     "data": {
      "text/plain": [
       "       0       1        2\n",
       "0    4.0  6.0736   9.6840\n",
       "1   17.0  6.5296  -9.2236\n",
       "2   72.0 -7.1325  -1.9674\n",
       "3    8.0  7.9425  -8.0293\n",
       "4   12.0  7.7597  -9.3911\n",
       "..   ...     ...      ...\n",
       "95  46.0  6.0180   9.4736\n",
       "96  80.0 -9.2625  -1.9572\n",
       "97  94.0  8.2099  -7.5596\n",
       "98  99.0  4.7219  12.3050\n",
       "99  66.0 -9.2217  -2.9465\n",
       "\n",
       "[100 rows x 3 columns]"
      ],
      "text/html": "<div>\n<style scoped>\n    .dataframe tbody tr th:only-of-type {\n        vertical-align: middle;\n    }\n\n    .dataframe tbody tr th {\n        vertical-align: top;\n    }\n\n    .dataframe thead th {\n        text-align: right;\n    }\n</style>\n<table border=\"1\" class=\"dataframe\">\n  <thead>\n    <tr style=\"text-align: right;\">\n      <th></th>\n      <th>0</th>\n      <th>1</th>\n      <th>2</th>\n    </tr>\n  </thead>\n  <tbody>\n    <tr>\n      <th>0</th>\n      <td>4.0</td>\n      <td>6.0736</td>\n      <td>9.6840</td>\n    </tr>\n    <tr>\n      <th>1</th>\n      <td>17.0</td>\n      <td>6.5296</td>\n      <td>-9.2236</td>\n    </tr>\n    <tr>\n      <th>2</th>\n      <td>72.0</td>\n      <td>-7.1325</td>\n      <td>-1.9674</td>\n    </tr>\n    <tr>\n      <th>3</th>\n      <td>8.0</td>\n      <td>7.9425</td>\n      <td>-8.0293</td>\n    </tr>\n    <tr>\n      <th>4</th>\n      <td>12.0</td>\n      <td>7.7597</td>\n      <td>-9.3911</td>\n    </tr>\n    <tr>\n      <th>...</th>\n      <td>...</td>\n      <td>...</td>\n      <td>...</td>\n    </tr>\n    <tr>\n      <th>95</th>\n      <td>46.0</td>\n      <td>6.0180</td>\n      <td>9.4736</td>\n    </tr>\n    <tr>\n      <th>96</th>\n      <td>80.0</td>\n      <td>-9.2625</td>\n      <td>-1.9572</td>\n    </tr>\n    <tr>\n      <th>97</th>\n      <td>94.0</td>\n      <td>8.2099</td>\n      <td>-7.5596</td>\n    </tr>\n    <tr>\n      <th>98</th>\n      <td>99.0</td>\n      <td>4.7219</td>\n      <td>12.3050</td>\n    </tr>\n    <tr>\n      <th>99</th>\n      <td>66.0</td>\n      <td>-9.2217</td>\n      <td>-2.9465</td>\n    </tr>\n  </tbody>\n</table>\n<p>100 rows × 3 columns</p>\n</div>"
     },
     "metadata": {},
     "execution_count": 94
    }
   ],
   "source": [
    "data_2"
   ]
  },
  {
   "cell_type": "code",
   "execution_count": 95,
   "metadata": {},
   "outputs": [
    {
     "output_type": "execute_result",
     "data": {
      "text/plain": [
       "       0      1_x      2_x     1_y      2_y\n",
       "0   57.0  -7.4703  -0.3561 -8.4965  -0.3358\n",
       "1   81.0  -4.6478   7.9474  5.1700  10.9990\n",
       "2   69.0  -8.3768   0.4391 -9.8570  -1.6089\n",
       "3   18.0  -4.9377   9.9903  5.1640  10.5001\n",
       "4   62.0  -5.8751  -6.6054  7.0999  -8.5866\n",
       "..   ...      ...      ...     ...      ...\n",
       "95  14.0  -4.8509   8.4615  4.4712  11.2719\n",
       "96  20.0  -4.9018   9.7526  6.0428   7.6077\n",
       "97  88.0  -5.8336  11.5752  5.6366   9.9946\n",
       "98  11.0 -10.3773  -0.8476 -5.1332  -1.5591\n",
       "99  70.0  -9.1811   1.6406 -9.4409  -1.3887\n",
       "\n",
       "[100 rows x 5 columns]"
      ],
      "text/html": "<div>\n<style scoped>\n    .dataframe tbody tr th:only-of-type {\n        vertical-align: middle;\n    }\n\n    .dataframe tbody tr th {\n        vertical-align: top;\n    }\n\n    .dataframe thead th {\n        text-align: right;\n    }\n</style>\n<table border=\"1\" class=\"dataframe\">\n  <thead>\n    <tr style=\"text-align: right;\">\n      <th></th>\n      <th>0</th>\n      <th>1_x</th>\n      <th>2_x</th>\n      <th>1_y</th>\n      <th>2_y</th>\n    </tr>\n  </thead>\n  <tbody>\n    <tr>\n      <th>0</th>\n      <td>57.0</td>\n      <td>-7.4703</td>\n      <td>-0.3561</td>\n      <td>-8.4965</td>\n      <td>-0.3358</td>\n    </tr>\n    <tr>\n      <th>1</th>\n      <td>81.0</td>\n      <td>-4.6478</td>\n      <td>7.9474</td>\n      <td>5.1700</td>\n      <td>10.9990</td>\n    </tr>\n    <tr>\n      <th>2</th>\n      <td>69.0</td>\n      <td>-8.3768</td>\n      <td>0.4391</td>\n      <td>-9.8570</td>\n      <td>-1.6089</td>\n    </tr>\n    <tr>\n      <th>3</th>\n      <td>18.0</td>\n      <td>-4.9377</td>\n      <td>9.9903</td>\n      <td>5.1640</td>\n      <td>10.5001</td>\n    </tr>\n    <tr>\n      <th>4</th>\n      <td>62.0</td>\n      <td>-5.8751</td>\n      <td>-6.6054</td>\n      <td>7.0999</td>\n      <td>-8.5866</td>\n    </tr>\n    <tr>\n      <th>...</th>\n      <td>...</td>\n      <td>...</td>\n      <td>...</td>\n      <td>...</td>\n      <td>...</td>\n    </tr>\n    <tr>\n      <th>95</th>\n      <td>14.0</td>\n      <td>-4.8509</td>\n      <td>8.4615</td>\n      <td>4.4712</td>\n      <td>11.2719</td>\n    </tr>\n    <tr>\n      <th>96</th>\n      <td>20.0</td>\n      <td>-4.9018</td>\n      <td>9.7526</td>\n      <td>6.0428</td>\n      <td>7.6077</td>\n    </tr>\n    <tr>\n      <th>97</th>\n      <td>88.0</td>\n      <td>-5.8336</td>\n      <td>11.5752</td>\n      <td>5.6366</td>\n      <td>9.9946</td>\n    </tr>\n    <tr>\n      <th>98</th>\n      <td>11.0</td>\n      <td>-10.3773</td>\n      <td>-0.8476</td>\n      <td>-5.1332</td>\n      <td>-1.5591</td>\n    </tr>\n    <tr>\n      <th>99</th>\n      <td>70.0</td>\n      <td>-9.1811</td>\n      <td>1.6406</td>\n      <td>-9.4409</td>\n      <td>-1.3887</td>\n    </tr>\n  </tbody>\n</table>\n<p>100 rows × 5 columns</p>\n</div>"
     },
     "metadata": {},
     "execution_count": 95
    }
   ],
   "source": [
    "data = pd.merge(data_1, data_2, on=0)\n",
    "data"
   ]
  },
  {
   "cell_type": "code",
   "execution_count": 96,
   "metadata": {},
   "outputs": [],
   "source": [
    "d = len(data.columns) - 1"
   ]
  },
  {
   "cell_type": "code",
   "execution_count": 97,
   "metadata": {},
   "outputs": [
    {
     "output_type": "stream",
     "name": "stdout",
     "text": [
      "100\n5\n"
     ]
    }
   ],
   "source": [
    "N, d = data.shape\n",
    "print(N)\n",
    "print(d)"
   ]
  },
  {
   "cell_type": "code",
   "execution_count": 119,
   "metadata": {},
   "outputs": [
    {
     "output_type": "execute_result",
     "data": {
      "text/plain": [
       "0"
      ]
     },
     "metadata": {},
     "execution_count": 119
    }
   ],
   "source": [
    "i = np.random.randint(10)\n",
    "i"
   ]
  },
  {
   "cell_type": "code",
   "execution_count": 129,
   "metadata": {},
   "outputs": [
    {
     "output_type": "execute_result",
     "data": {
      "text/plain": [
       "[-7.4703, -0.3561, -8.4965, -0.3358]"
      ]
     },
     "metadata": {},
     "execution_count": 129
    }
   ],
   "source": [
    "data.loc[0].tolist()[1:]"
   ]
  },
  {
   "cell_type": "code",
   "execution_count": 137,
   "metadata": {},
   "outputs": [
    {
     "output_type": "execute_result",
     "data": {
      "text/plain": [
       "-16.658699999999996"
      ]
     },
     "metadata": {},
     "execution_count": 137
    }
   ],
   "source": [
    "vec1 = data.loc[0].tolist()[1:]\n",
    "vec2 = data.loc[1].tolist()[1:]\n",
    "\n",
    "sum(vec1)\n"
   ]
  },
  {
   "cell_type": "code",
   "execution_count": 164,
   "metadata": {},
   "outputs": [
    {
     "output_type": "execute_result",
     "data": {
      "text/plain": [
       "4"
      ]
     },
     "metadata": {},
     "execution_count": 164
    }
   ],
   "source": [
    "np.random.choice(5, p = [0.2, 0.4, 0, 0.2, 0.2])"
   ]
  },
  {
   "cell_type": "code",
   "execution_count": 169,
   "metadata": {},
   "outputs": [
    {
     "output_type": "execute_result",
     "data": {
      "text/plain": [
       "[[57.0, -7.4703, -0.3561, -8.4965, -0.3358],\n",
       " [81.0, -4.6478, 7.9474, 5.17, 10.999],\n",
       " [69.0, -8.3768, 0.4391, -9.857, -1.6089],\n",
       " [18.0, -4.9377, 9.9903, 5.164, 10.5001],\n",
       " [62.0, -5.8751, -6.6054, 7.0999, -8.5866],\n",
       " [76.0, -8.7503, 2.2862, -7.416, -3.3666],\n",
       " [82.0, -5.056, 11.0115, 4.7007, 9.6514],\n",
       " [45.0, -5.7191, -7.6118, 10.1312, -8.3614],\n",
       " [64.0, -7.1986, 2.3764, -9.4223, -3.6486],\n",
       " [80.0, -8.7949, -0.0633, -9.2625, -1.9572],\n",
       " [35.0, -6.6498, -6.5922, 7.1399, -8.7644],\n",
       " [51.0, -5.4577, -7.391, 7.0248, -6.9181],\n",
       " [37.0, -7.8547, 0.8797, -8.244, -2.3705],\n",
       " [86.0, -5.3702, -9.2316, 8.0822, -6.8847],\n",
       " [74.0, -4.9542, 10.7517, 4.9588, 9.2168],\n",
       " [3.0, -4.8675, 8.9291, 5.0865, 9.5871],\n",
       " [56.0, -3.2764, 7.6329, 4.8407, 9.3006],\n",
       " [29.0, -7.2297, 1.2443, -7.1867, -3.2449],\n",
       " [61.0, -10.2582, -1.6944, -6.2528, -2.5893],\n",
       " [53.0, -3.8923, 9.7311, 3.9796, 7.9065],\n",
       " [46.0, -5.0458, 9.2021, 6.018, 9.4736],\n",
       " [77.0, -3.991, 9.0307, 4.4235, 8.8186],\n",
       " [2.0, -4.4966, 8.6451, 7.2195, 8.8427],\n",
       " [24.0, -9.7054, 2.6169, -8.0928, -1.9196],\n",
       " [21.0, -7.4122, 1.5275, -8.3242, -4.1458],\n",
       " [98.0, -5.5894, -7.6002, 8.1168, -7.4211],\n",
       " [90.0, -7.1167, -8.8758, 8.2362, -9.6175],\n",
       " [1.0, -8.3656, 0.4982, -8.1736, -3.9546],\n",
       " [55.0, -6.2775, 9.3774, 5.0661, 9.286],\n",
       " [79.0, -5.8847, 9.2257, 6.8134, 7.9073],\n",
       " [28.0, -5.7241, 9.1336, 5.5186, 10.4137],\n",
       " [59.0, -10.1777, 0.301, -7.6217, -1.1],\n",
       " [36.0, -1.378, 8.2518, 6.5502, 9.3715],\n",
       " [75.0, -9.0863, 1.1559, -9.0828, -3.854],\n",
       " [60.0, -4.5949, 7.455, 5.9945, 9.2185],\n",
       " [58.0, -8.4706, -1.6234, -8.592, -2.8902],\n",
       " [96.0, -6.1805, -6.0061, 10.2181, -8.9969],\n",
       " [5.0, -4.9771, -6.9474, 7.9472, -9.8077],\n",
       " [9.0, -7.5274, 0.8848, -9.3769, -4.8204],\n",
       " [19.0, -4.6626, 9.6735, 4.1894, 10.4952],\n",
       " [25.0, -7.0066, -0.4472, -7.3398, -2.6378],\n",
       " [89.0, -3.7616, 9.8488, 6.5067, 9.6453],\n",
       " [48.0, -9.3477, -1.062, -7.4979, -1.9145],\n",
       " [49.0, -4.3115, -8.4256, 9.1015, -8.4982],\n",
       " [4.0, -4.0015, 8.8107, 6.0736, 9.684],\n",
       " [39.0, -5.387, -6.6833, 8.6478, -8.8103],\n",
       " [7.0, -9.0952, 0.7753, -8.8316, -3.7971],\n",
       " [65.0, -3.0795, 8.8207, 3.6477, 9.7885],\n",
       " [6.0, -2.8154, 7.7916, 6.1721, 7.6763],\n",
       " [85.0, -5.9173, -7.1353, 10.06, -8.0897],\n",
       " [23.0, -8.6429, 0.1733, -6.7113, -3.6176],\n",
       " [92.0, -5.5822, -5.8273, 9.7297, -7.4166],\n",
       " [63.0, -7.966, 2.3012, -7.3726, -2.7827],\n",
       " [47.0, -5.02, 9.1048, 4.7077, 10.1588],\n",
       " [93.0, -6.4568, -6.7351, 8.8267, -9.0132],\n",
       " [17.0, -4.5776, -8.0577, 6.5296, -9.2236],\n",
       " [95.0, -6.5409, -7.9866, 7.6416, -8.2592],\n",
       " [87.0, -4.0147, 11.4525, 5.0276, 9.6162],\n",
       " [27.0, -5.1624, 8.6549, 3.4311, 7.398],\n",
       " [52.0, -5.0046, -7.8573, 6.6642, -10.6713],\n",
       " [72.0, -8.56, 1.7976, -7.1325, -1.9674],\n",
       " [84.0, -5.216, -7.9913, 9.359, -7.8164],\n",
       " [10.0, -5.8282, -9.0878, 6.8433, -8.4201],\n",
       " [16.0, -2.3015, 8.727, 5.2717, 9.5278],\n",
       " [97.0, -9.6662, 0.9506, -8.3869, -2.6574],\n",
       " [40.0, -5.3645, 8.0872, 5.4206, 9.6482],\n",
       " [22.0, -4.6078, 9.191, 4.126, 7.317],\n",
       " [26.0, -9.7312, 1.0649, -8.4407, -1.1115],\n",
       " [67.0, -6.3248, -7.9119, 7.4714, -7.1638],\n",
       " [12.0, -4.7958, -7.2116, 7.7597, -9.3911],\n",
       " [33.0, -3.5948, 10.2213, 5.5866, 10.006],\n",
       " [13.0, -5.5452, -8.1187, 7.6208, -6.299],\n",
       " [42.0, -7.9296, 2.4412, -8.9876, -4.1609],\n",
       " [78.0, -7.1028, -6.9573, 6.1918, -9.4078],\n",
       " [44.0, -6.8572, -6.2699, 8.7914, -8.903],\n",
       " [68.0, -6.5175, -5.8562, 7.4371, -7.5458],\n",
       " [15.0, -9.8349, 2.0064, -9.3495, -2.5746],\n",
       " [66.0, -8.2899, 2.6944, -9.2217, -2.9465],\n",
       " [34.0, -9.1886, 1.8473, -6.529, -4.4377],\n",
       " [8.0, -4.4465, -8.3548, 7.9425, -8.0293],\n",
       " [99.0, -4.1698, 10.0466, 4.7219, 12.305],\n",
       " [94.0, -7.9322, -6.7934, 8.2099, -7.5596],\n",
       " [31.0, -4.9652, 8.5723, 4.8761, 9.7298],\n",
       " [91.0, -6.0076, -6.7454, 8.5841, -9.7696],\n",
       " [83.0, -4.6956, 8.9423, 5.3885, 8.547],\n",
       " [0.0, -4.9223, -7.8024, 8.261, -6.8435],\n",
       " [71.0, -6.0826, -6.8641, 8.6312, -9.1768],\n",
       " [41.0, -8.5916, 0.8211, -8.0818, -2.9369],\n",
       " [54.0, -5.1231, -7.3902, 8.3228, -8.2079],\n",
       " [50.0, -4.5288, -6.4948, 6.5928, -7.8068],\n",
       " [38.0, -7.3848, -0.0794, -7.036, -3.0862],\n",
       " [73.0, -9.729, 1.6778, -7.1278, -3.0498],\n",
       " [32.0, -4.9726, 10.4308, 6.8067, 9.1145],\n",
       " [43.0, -6.3801, -9.0156, 7.1748, -9.0412],\n",
       " [30.0, -6.9992, 1.5587, -8.2811, -2.2334],\n",
       " [14.0, -4.8509, 8.4615, 4.4712, 11.2719],\n",
       " [20.0, -4.9018, 9.7526, 6.0428, 7.6077],\n",
       " [88.0, -5.8336, 11.5752, 5.6366, 9.9946],\n",
       " [11.0, -10.3773, -0.8476, -5.1332, -1.5591],\n",
       " [70.0, -9.1811, 1.6406, -9.4409, -1.3887]]"
      ]
     },
     "metadata": {},
     "execution_count": 169
    }
   ],
   "source": [
    "data.values.tolist()"
   ]
  },
  {
   "cell_type": "code",
   "execution_count": null,
   "metadata": {},
   "outputs": [],
   "source": []
  }
 ]
}